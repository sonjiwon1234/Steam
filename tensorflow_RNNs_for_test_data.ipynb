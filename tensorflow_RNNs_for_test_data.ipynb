{
 "cells": [
  {
   "cell_type": "code",
   "execution_count": 78,
   "metadata": {},
   "outputs": [
    {
     "data": {
      "image/png": "[encoded data removed]",
      "text/plain": [
       "<matplotlib.figure.Figure at 0x1b95993e7f0>"
      ]
     },
     "metadata": {},
     "output_type": "display_data"
    },
    {
     "name": "stdout",
     "output_type": "stream",
     "text": [
      "INFO:tensorflow:Restoring parameters from saved/train4\n",
      "[[[ 497.55023193]\n",
      "  [ 460.21313477]\n",
      "  [ 533.38153076]\n",
      "  [ 569.83831787]\n",
      "  [ 557.77539062]\n",
      "  [ 656.887146  ]\n",
      "  [ 609.46655273]\n",
      "  [ 659.72454834]\n",
      "  [ 729.12591553]]]\n"
     ]
    },
    {
     "data": {
      "image/png": "[encoded data removed]",
      "text/plain": [
       "<matplotlib.figure.Figure at 0x1b958d27f60>"
      ]
     },
     "metadata": {},
     "output_type": "display_data"
    }
   ],
   "source": [
    "import pandas as pd\n",
    "import numpy as np\n",
    "import os\n",
    "import matplotlib\n",
    "import matplotlib.pyplot as plt\n",
    "import random\n",
    "%matplotlib inline\n",
    "import tensorflow as tf\n",
    "import shutil\n",
    "import tensorflow.contrib.learn as tflearn\n",
    "import tensorflow.contrib.layers as tflayers\n",
    "from tensorflow.contrib.learn.python.learn import learn_runner\n",
    "import tensorflow.contrib.metrics as metrics\n",
    "import tensorflow.contrib.rnn as rnn\n",
    "\n",
    "#generate some data\n",
    "df = pd.read_excel('genre_test.xlsx',index_col='year')\n",
    "#df 를 입력하면 해당 내용 보여줌\n",
    "ts = df['action']\n",
    "ts.plot(c='b',title=\"action\")\n",
    "plt.show()\n",
    "#print(len(ts))\n",
    "\n",
    "\n",
    "TS = np.array(ts)\n",
    "num_periods = 9\n",
    "f_horizon = 1 #forecast horizon, one period into the future\n",
    "\n",
    "x_data = TS[:-num_periods]\n",
    "x_batches = x_data.reshape(-1,9,1) \n",
    "\n",
    "y_data = TS[1:-num_periods+f_horizon]\n",
    "y_batches = y_data.reshape(-1,9,1)\n",
    "\n",
    "#print(x_batches.shape)\n",
    "#print(x_batches[0:2])\n",
    "#print(x_batches)\n",
    "#print(y_batches)\n",
    "\n",
    "#print(y_batches[0:1])\n",
    "#print(y_batches.shape)\n",
    "\n",
    "\n",
    "#pull out our test data\n",
    "def test_data(series,forecast,num_periods):\n",
    "    test_x_setup = TS[-(num_periods + forecast):]\n",
    "    testX = test_x_setup[:num_periods].reshape(-1,9,1)\n",
    "    testY = TS[-(num_periods):].reshape(-1,9,1)\n",
    "    return testX,testY\n",
    "\n",
    "X_test, Y_test = test_data(TS,f_horizon,num_periods)\n",
    "#print(X_test.shape)\n",
    "#print(X_test)\n",
    "\n",
    "#create Tensorflow graph\n",
    "tf.reset_default_graph()\n",
    "\n",
    "num_periods = 9 #number of periods per vector we are using to predict one period ahead\n",
    "inputs = 1       #number of vectors submitted\n",
    "hidden = 1500     #number of neurons we will recursively work through, can be changed to improve accuracy\n",
    "output = 1        #number of output vectors\n",
    "\n",
    "# 2D tensor를 위한 placeholder로 이곳에 데이터가 채워지게 된다.\n",
    "# None는 행의 수가 한정되지 않는다는 뜻\n",
    "# data type를 64bit대신 32bit를 사용하는 이유는 속도를 위해...\n",
    "X = tf.placeholder(tf.float32, [None,num_periods, inputs])  #create variable objects\n",
    "y = tf.placeholder(tf.float32, [None,num_periods, output])\n",
    "\n",
    "basic_cell = tf.contrib.rnn.BasicRNNCell(num_units = hidden, activation=tf.nn.relu) #create RNN object\n",
    "#BasicRNNCell, BasicLSTMCell, GRUCell, LSTMCell 4가지 다 사용 가능\n",
    "rnn_output, states = tf.nn.dynamic_rnn(basic_cell,X,dtype=tf.float32)  #choose dynamic over static\n",
    "# cell을 생성한다\n",
    "# BasicRNNCell 출력의 크기(hidden_size)를 정해준다\n",
    "# dynamic_rnn을 통해 cell만든 것을 실제로 구동시켜 입력을 주고마지막 state의 값 return \n",
    "\n",
    "\n",
    "learning_rate = 0.001 #small learning rate so we don't overshoot the minimum\n",
    "\n",
    "stacked_rnn_output = tf.reshape(rnn_output,[-1,hidden])      #change the form into a tensor\n",
    "stacked_outputs = tf.layers.dense(stacked_rnn_output,output)  #specify the type of layer (dense)\n",
    "outputs = tf.reshape(stacked_outputs, [-1,num_periods,output]) #shape of results\n",
    "\n",
    "#손실 함수 정의\n",
    "# loss를 adamoptimizer를 통해 최소화 한다.\n",
    "loss = tf.reduce_sum(tf.square(outputs - y))   #define the cost function which evaluates the quality of our model\n",
    "optimizer = tf.train.AdamOptimizer(learning_rate = learning_rate) #gradient descent method \n",
    "training_op = optimizer.minimize(loss)  #train the result of the application of the cost_function\n",
    "\n",
    "init = tf.global_variables_initializer()  #initialize all the variables\n",
    "\n",
    "\n",
    "# implement this model on our training data\n",
    "epochs = 1000 #number of iterations or training cycles, includes both the FeedFowrd and Backpropogation\n",
    "\n",
    "with tf.Session() as sess:\n",
    "    saver = tf.train.Saver()\n",
    "    saver.restore(sess,\"saved/train4\")\n",
    "    \"\"\"\n",
    "    #init.run()\n",
    "    for ep in range(epochs):\n",
    "        # sampling된 data는 feed_dict인자를 참고해서 placeholder에 공급\n",
    "        sess.run(training_op, feed_dict = {X: x_batches,y: y_batches})\n",
    "        if ep % 100 == 0:\n",
    "            mse = loss.eval(feed_dict = {X: x_batches, y: y_batches})\n",
    "            print(ep,\"\\tMSE:\",mse)\n",
    "    \"\"\"\n",
    "    for i in range(0,9):\n",
    "        y_pred = sess.run(outputs, feed_dict = {X: Y_test})\n",
    "        a = np.array([Y_test[0][1:9]])\n",
    "        b = np.array(y_pred[0][8])\n",
    "        Y_test = np.append(a,b).reshape(-1,9,1)\n",
    "    print(Y_test)\n",
    "    #save_data = saver.save(sess,\"saved/train4\")\n",
    "\n",
    "#check our predicted vs actual\n",
    "plt.title(\"Forecast vs Actual\", fontsize = 14)\n",
    "#plt.plot(pd.Series(np.ravel(Y_test)), \"b\",ls=\"-\" ,label = \"Actual\")\n",
    "plt.plot(pd.Series(np.ravel(Y_test)),\"r\",ls=\"-\",label = \"Forecast\")\n",
    "plt.legend(loc=\"upper left\")\n",
    "plt.xlabel(\"Time Periods\")\n",
    "\n",
    "plt.show()\n",
    "\n",
    "# need for improvement but can be done by changing \n",
    "# the number of hidden neurons and/or \n",
    "# incresing the number of epochs\n"
   ]
  },
  {
   "cell_type": "code",
   "execution_count": null,
   "metadata": {
    "collapsed": true
   },
   "outputs": [],
   "source": []
  },
  {
   "cell_type": "code",
   "execution_count": null,
   "metadata": {
    "collapsed": true
   },
   "outputs": [],
   "source": []
  }
 ],
 "metadata": {
  "kernelspec": {
   "display_name": "Python 3",
   "language": "python",
   "name": "python3"
  },
  "language_info": {
   "codemirror_mode": {
    "name": "ipython",
    "version": 3
   },
   "file_extension": ".py",
   "mimetype": "text/x-python",
   "name": "python",
   "nbconvert_exporter": "python",
   "pygments_lexer": "ipython3",
   "version": "3.6.3"
  }
 },
 "nbformat": 4,
 "nbformat_minor": 2
}
